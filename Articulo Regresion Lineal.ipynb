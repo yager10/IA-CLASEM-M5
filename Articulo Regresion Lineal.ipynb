{
 "cells": [
  {
   "cell_type": "code",
   "execution_count": null,
   "metadata": {},
   "outputs": [],
   "source": [
    "|"
   ]
  },
  {
   "cell_type": "markdown",
   "metadata": {},
   "source": [
    "# Ejercicio de Regresion Lineal "
   ]
  },
  {
   "cell_type": "markdown",
   "metadata": {},
   "source": [
    "En este notebook vamos a describir paso a paso un ejercicio de prediccion, a traves de regresion lineal, de la cantidad de ocasiones en que comparte un articulo del area de machine Learning en un Blog"
   ]
  },
  {
   "cell_type": "markdown",
   "metadata": {},
   "source": [
    "# Prediccion: Cantdad de ocasones en que se comparte un articulo de un Blog "
   ]
  },
  {
   "cell_type": "markdown",
   "metadata": {},
   "source": [
    "Se inicia importando, ajustado y visualizando los datos"
   ]
  },
  {
   "cell_type": "code",
   "execution_count": 7,
   "metadata": {},
   "outputs": [],
   "source": [
    "# Importamos librerias y ajustes necesarios\n",
    "\n",
    "import numpy as np\n",
    "import pandas as pd \n",
    "import seaborn as sb\n",
    "import matplotlib.pyplot as plt\n",
    "%matplotlib inline\n",
    "from mpl_toolkits.mplot3d import Axes3D\n",
    "from matplotlib import cm \n",
    "plt.rcParams['figure.figsize']=(16,9)\n",
    "plt.style.use('ggplot')\n",
    "from sklearn import linear_model\n",
    "from sklearn.metrics import mean_squared_error, r2_score"
   ]
  },
  {
   "cell_type": "code",
   "execution_count": 9,
   "metadata": {},
   "outputs": [],
   "source": [
    "#Se carga el archivo de datos de entradas csv como dataset de Pandas. los datos proviene del sitio web https://www.kdnuggets.com \n",
    "data = pd.read_csv(\"./articulos de blog ml.csv\")"
   ]
  },
  {
   "cell_type": "markdown",
   "metadata": {},
   "source": [
    "Pandas es una libreria de Python destinada a analisis de datos, qie proporciona estructura de datos flexibles las cuales permiten trabajar con ellos de forma eficiente. Pandas ofrece las siguiente estructura sde daros: Series; Son arrays con indexacion (arrays con indice o etiqutados), similar a los diccionarios. Puede generarse a partir de diccionariso de la listas. Dataframe: Son estructuras de datos similares a las tables de base de datos relaciones con SQL, Panel, Panel4D y PanelND; Son estructuras de datos  que permite trabajar con mas de dos dimensiones"
   ]
  },
  {
   "cell_type": "code",
   "execution_count": 10,
   "metadata": {},
   "outputs": [
    {
     "data": {
      "text/plain": [
       "(161, 8)"
      ]
     },
     "execution_count": 10,
     "metadata": {},
     "output_type": "execute_result"
    }
   ],
   "source": [
    "#Revisamos la dimension (registros x columnas)que contiene el archivo\n",
    "data.shape"
   ]
  },
  {
   "cell_type": "code",
   "execution_count": 12,
   "metadata": {
    "scrolled": true
   },
   "outputs": [
    {
     "data": {
      "text/html": [
       "<div>\n",
       "<style scoped>\n",
       "    .dataframe tbody tr th:only-of-type {\n",
       "        vertical-align: middle;\n",
       "    }\n",
       "\n",
       "    .dataframe tbody tr th {\n",
       "        vertical-align: top;\n",
       "    }\n",
       "\n",
       "    .dataframe thead th {\n",
       "        text-align: right;\n",
       "    }\n",
       "</style>\n",
       "<table border=\"1\" class=\"dataframe\">\n",
       "  <thead>\n",
       "    <tr style=\"text-align: right;\">\n",
       "      <th></th>\n",
       "      <th>Title</th>\n",
       "      <th>url</th>\n",
       "      <th>Word count</th>\n",
       "      <th># of Links</th>\n",
       "      <th># of comments</th>\n",
       "      <th># Images video</th>\n",
       "      <th>Elapsed days</th>\n",
       "      <th># Shares</th>\n",
       "    </tr>\n",
       "  </thead>\n",
       "  <tbody>\n",
       "    <tr>\n",
       "      <td>0</td>\n",
       "      <td>What is Machine Learning and how do we use it ...</td>\n",
       "      <td>https://blog.signals.network/what-is-machine-l...</td>\n",
       "      <td>1888</td>\n",
       "      <td>1</td>\n",
       "      <td>2.0</td>\n",
       "      <td>2</td>\n",
       "      <td>34</td>\n",
       "      <td>200000</td>\n",
       "    </tr>\n",
       "    <tr>\n",
       "      <td>1</td>\n",
       "      <td>10 Companies Using Machine Learning in Cool Ways</td>\n",
       "      <td>NaN</td>\n",
       "      <td>1742</td>\n",
       "      <td>9</td>\n",
       "      <td>NaN</td>\n",
       "      <td>9</td>\n",
       "      <td>5</td>\n",
       "      <td>25000</td>\n",
       "    </tr>\n",
       "    <tr>\n",
       "      <td>2</td>\n",
       "      <td>How Artificial Intelligence Is Revolutionizing...</td>\n",
       "      <td>NaN</td>\n",
       "      <td>962</td>\n",
       "      <td>6</td>\n",
       "      <td>0.0</td>\n",
       "      <td>1</td>\n",
       "      <td>10</td>\n",
       "      <td>42000</td>\n",
       "    </tr>\n",
       "    <tr>\n",
       "      <td>3</td>\n",
       "      <td>Dbrain and the Blockchain of Artificial Intell...</td>\n",
       "      <td>NaN</td>\n",
       "      <td>1221</td>\n",
       "      <td>3</td>\n",
       "      <td>NaN</td>\n",
       "      <td>2</td>\n",
       "      <td>68</td>\n",
       "      <td>200000</td>\n",
       "    </tr>\n",
       "    <tr>\n",
       "      <td>4</td>\n",
       "      <td>Nasa finds entire solar system filled with eig...</td>\n",
       "      <td>NaN</td>\n",
       "      <td>2039</td>\n",
       "      <td>1</td>\n",
       "      <td>104.0</td>\n",
       "      <td>4</td>\n",
       "      <td>131</td>\n",
       "      <td>200000</td>\n",
       "    </tr>\n",
       "  </tbody>\n",
       "</table>\n",
       "</div>"
      ],
      "text/plain": [
       "                                               Title  \\\n",
       "0  What is Machine Learning and how do we use it ...   \n",
       "1   10 Companies Using Machine Learning in Cool Ways   \n",
       "2  How Artificial Intelligence Is Revolutionizing...   \n",
       "3  Dbrain and the Blockchain of Artificial Intell...   \n",
       "4  Nasa finds entire solar system filled with eig...   \n",
       "\n",
       "                                                 url  Word count  # of Links  \\\n",
       "0  https://blog.signals.network/what-is-machine-l...        1888           1   \n",
       "1                                                NaN        1742           9   \n",
       "2                                                NaN         962           6   \n",
       "3                                                NaN        1221           3   \n",
       "4                                                NaN        2039           1   \n",
       "\n",
       "   # of comments  # Images video  Elapsed days  # Shares  \n",
       "0            2.0               2            34    200000  \n",
       "1            NaN               9             5     25000  \n",
       "2            0.0               1            10     42000  \n",
       "3            NaN               2            68    200000  \n",
       "4          104.0               4           131    200000  "
      ]
     },
     "execution_count": 12,
     "metadata": {},
     "output_type": "execute_result"
    }
   ],
   "source": [
    "# Podemos revisar los primeros registrados para comprobar el funcionamiento\n",
    "data.head()"
   ]
  },
  {
   "cell_type": "raw",
   "metadata": {},
   "source": [
    "    Se observa, por ejemplo, la media del atributo Word count(Cantidad de palabras)es de 1808.26 tambien se observa que el qrticulo mas pequeno contiene 250 palabras y el mas grande tiene 8401 palabras. Con respecto a cuando se ha compartido un articulo (#Share"
   ]
  },
  {
   "cell_type": "code",
   "execution_count": null,
   "metadata": {},
   "outputs": [],
   "source": [
    "# Se visualizan los atributos de entrada mediante histrogramas y barras (cuantitativas y cualitativas)\n",
    "data.drop(['Title','Elapsed day'],1).hist()\n",
    "plt.show()"
   ]
  },
  {
   "cell_type": "raw",
   "metadata": {},
   "source": [
    "Las graficas anteriores"
   ]
  },
  {
   "cell_type": "markdown",
   "metadata": {},
   "source": [
    "Se puede visualizar"
   ]
  },
  {
   "cell_type": "code",
   "execution_count": null,
   "metadata": {},
   "outputs": [],
   "source": [
    "#Visualizar datos de entrada\n",
    "colores= ['orange', 'blue']\n",
    "tamanios=[30,60]\n",
    "\n",
    "f1=data['Word count'].value\n",
    "f2=data['# Share'].value\n",
    "\n",
    "# Pintar en dos colores los puntos por debajo de la media de cantidad de palabras\n",
    "asignar = []\n",
    "for index,row in data.iterrows()\n",
    "if (row['Word count']>1808):\n",
    "    asignar.append(colores[1])\n",
    "    plt.scater(f1, f2, c=asignar, s=tamanios[0])\n",
    "    plt.show"
   ]
  },
  {
   "cell_type": "code",
   "execution_count": null,
   "metadata": {},
   "outputs": [],
   "source": [
    "#Visualizar los datos en la zona donde se concentran mas los puntos \n",
    "#esto es el eje x: entre 0 y 3500.\n",
    "# en el y: entre 0 y 80.00\n",
    "filtered_data= data[data['Word count']<= 3500 & (data['# Shares']<= 80000)]\n",
    "\n",
    "f1=data['Word count'].value\n",
    "f2=data['# Share'].value\n",
    "\n",
    "#pintar en colores los puntos por debajo y por encima de la media de cantidad de palabras\n",
    "asigna=[]\n",
    "for index, row in filtered_data.iterrows():\n",
    "    if(row['Wor count']>1808):\n",
    "        asignar.append(colores[1])\n",
    "        \n",
    "        plt.scater(f1, f2, c=asignar, s=tamanios[0])\n",
    "    plt.show"
   ]
  },
  {
   "cell_type": "code",
   "execution_count": null,
   "metadata": {},
   "outputs": [],
   "source": [
    "#Se revisan los cambios de valores una vez filtrados\n",
    "filtered_data.describe()"
   ]
  },
  {
   "cell_type": "code",
   "execution_count": null,
   "metadata": {},
   "outputs": [],
   "source": [
    "#Se asigna el atributo de entrada  X para entrenamiento y las etiquetas Y\n",
    "dataX =filtered_data[['Word count']]\n",
    "X_train = np.array(dataX)\n",
    "Y_train = filtered_data['# Shares'].value."
   ]
  },
  {
   "cell_type": "code",
   "execution_count": null,
   "metadata": {},
   "outputs": [],
   "source": [
    "#Se genera el objeto de regresion lineal\n",
    "regr = lineal_model.LineaerRegression()\n",
    "\n",
    "#Se entre el modelo\n",
    "regr.fit(X_train, Y_train)\n",
    "\n",
    "#Se realiza las predicciones\n",
    "y_pred = regr.predict(X_train)\n",
    "\n",
    "#Se revisa los coeficientes obtenidos, en estye caso sera la tangente\n",
    "print('Coeficiente: \\n', regr.coef_)\n",
    "#Este es el valor donde corta el eje Y (enx=0)"
   ]
  },
  {
   "cell_type": "raw",
   "metadata": {},
   "source": [
    "De la ecuacion de la recta y = mx + b la pendiente \n",
    "'m\" es el coeficiente"
   ]
  },
  {
   "cell_type": "raw",
   "metadata": {},
   "source": [
    "Visualizacion de la recta obtenida."
   ]
  },
  {
   "cell_type": "code",
   "execution_count": null,
   "metadata": {},
   "outputs": [],
   "source": [
    "plt.scatter(x_train[:,0], y_train, c=asignar, s=tamanios[0])\n",
    "plt.plot(x_train[:,0], y_pred, color red = 'red', linewidth=3)\n",
    "\n",
    "plt.xlabel('cantidad de palabras')\n",
    "plt.title('regresion lineal')\n",
    "\n",
    "plt.show()"
   ]
  },
  {
   "cell_type": "raw",
   "metadata": {},
   "source": [
    "Prediccion 1"
   ]
  },
  {
   "cell_type": "code",
   "execution_count": null,
   "metadata": {},
   "outputs": [],
   "source": [
    "#Predecir \n",
    "#Cuantos \"Shares\" se obtendran por un articulo de 2000 palabras\n",
    "y_dosMil = regr.predict([[2000]])\n",
    "print('cantidad predecida:', int(y_dosMil))"
   ]
  },
  {
   "cell_type": "raw",
   "metadata": {},
   "source": [
    "Cantidad predecida: 22595"
   ]
  },
  {
   "cell_type": "raw",
   "metadata": {},
   "source": [
    "Devuelve una predicion de 22595 'Shares' para un articulo de 2000 palabras."
   ]
  },
  {
   "cell_type": "raw",
   "metadata": {},
   "source": [
    "como podemos mejorar el modelo?"
   ]
  },
  {
   "cell_type": "raw",
   "metadata": {},
   "source": [
    "Regresion lineal Multiples  (multiples atributos)"
   ]
  },
  {
   "cell_type": "raw",
   "metadata": {},
   "source": [
    "Se modifica el ejercicio utilizando mas de una variable de entrada para el modelo. Esto le da mayor presicion al algoritmo de machine learning. de esta manera puede obtener  predicciones mas completas."
   ]
  },
  {
   "cell_type": "raw",
   "metadata": {},
   "source": [
    "La ecua cion de la recta sera:"
   ]
  },
  {
   "cell_type": "raw",
   "metadata": {},
   "source": [
    "y= b+m1x1+m2x2+...+m(n)x(n)"
   ]
  },
  {
   "cell_type": "raw",
   "metadata": {},
   "source": [
    "(deja de ser una recta "
   ]
  },
  {
   "cell_type": "raw",
   "metadata": {},
   "source": [
    "En este caso se utilizan 2 \"atruibutos predictivos\" para poder graficar en 3D"
   ]
  },
  {
   "cell_type": "raw",
   "metadata": {},
   "source": [
    "(El primer atributo seguira siendo la cantidad de palabras y el segundo atributo sera la suma de las 3 columnas de cantodad de entradas "
   ]
  },
  {
   "cell_type": "code",
   "execution_count": null,
   "metadata": {},
   "outputs": [],
   "source": [
    "#Se pudiera mejoprar el modulo, con una dimension mas \n",
    "#para poder graficar en 3D, se incluye un atributo extra\n",
    "union = ()"
   ]
  },
  {
   "cell_type": "code",
   "execution_count": null,
   "metadata": {},
   "outputs": [],
   "source": [
    "#Se agrega "
   ]
  },
  {
   "cell_type": "raw",
   "metadata": {},
   "source": []
  },
  {
   "cell_type": "raw",
   "metadata": {},
   "source": [
    "Se visualiza un plano 3 dimensiones"
   ]
  },
  {
   "cell_type": "code",
   "execution_count": null,
   "metadata": {},
   "outputs": [],
   "source": [
    "fil =plt.figure()\n",
    "ax = Axes3D(fig)\n",
    "\n",
    "# Se genera una malla, sobre la cual se grafica el plano\n",
    "xx, yy = np.meshgrid(np.linspace(0, 3500, num = 10), np.linspace(0, 60, num = 10)\n",
    "                     \n",
    "                     #Se calculan los calores plano para los puntos  x e y\n",
    "                     nuevox = (regr2.coef_[0] *xx)\n",
    "                     nuevox = (regr2.coef_[0] *yy)\n",
    "                     \n",
    "                     #al igual que los correspondientes valores para z. Se deven sumar el punto de intercpecion\n",
    "                     z = (nuevox + nuevoy + regre2.intercept_)\n",
    "                     \n",
    "                     #"
   ]
  }
 ],
 "metadata": {
  "kernelspec": {
   "display_name": "Python 3",
   "language": "python",
   "name": "python3"
  },
  "language_info": {
   "codemirror_mode": {
    "name": "ipython",
    "version": 3
   },
   "file_extension": ".py",
   "mimetype": "text/x-python",
   "name": "python",
   "nbconvert_exporter": "python",
   "pygments_lexer": "ipython3",
   "version": "3.7.6"
  }
 },
 "nbformat": 4,
 "nbformat_minor": 2
}
